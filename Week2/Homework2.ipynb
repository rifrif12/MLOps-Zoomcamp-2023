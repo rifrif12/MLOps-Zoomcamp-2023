{
 "cells": [
  {
   "cell_type": "markdown",
   "id": "c0953063-88aa-475b-af20-2049b57de5f8",
   "metadata": {
    "tags": []
   },
   "source": [
    "## Weights & Biases workshop\n",
    "\n",
    "* Video: https://www.youtube.com/watch?v=yNyqFMwEyL4\n",
    "* Github repository: https://wandb.me/mlops-zoomcamp-github\n",
    "\n",
    "\n",
    "## Homework with Weights & Biases\n",
    "\n",
    "The goal of this homework is to get familiar with Weights & Biases for experiment tracking, model management, hyperparameter optimization, and many more.\n",
    "\n",
    "Befor getting started with the homework, you need to have a Weights & Biases account. You can do so by visiting [wandb.ai/site](https://wandb.ai/site) and clicking on the **Sign Up** button.\n",
    "\n",
    "# Q1. Install the Package\n",
    "\n",
    "To get started with Weights & Biases you'll need to install the appropriate Python package.\n",
    "\n",
    "For this we recommend creating a separate Python environment, for example, you can use [conda environments](https://docs.conda.io/projects/conda/en/latest/user-guide/getting-started.html#managing-envs), \n",
    "and then install the package there with `pip` or `conda`.\n",
    "\n",
    "Following are the libraries you need to install:\n",
    "\n",
    "* `pandas`\n",
    "* `matplotlib`\n",
    "* `scikit-learn`\n",
    "* `pyarrow`\n",
    "* `wandb`\n"
   ]
  },
  {
   "cell_type": "code",
   "execution_count": null,
   "id": "abf53f90-f4f7-4027-9f16-911f3a824735",
   "metadata": {
    "tags": []
   },
   "outputs": [],
   "source": [
    "# pip install pandas matplotlib scikit-learn pyarrow wandb"
   ]
  },
  {
   "cell_type": "code",
   "execution_count": 6,
   "id": "c2b8858b-69e4-43e6-a47c-791c9df4f9be",
   "metadata": {
    "tags": []
   },
   "outputs": [
    {
     "name": "stdout",
     "output_type": "stream",
     "text": [
      "Q1. Version:\n",
      "wandb, version 0.15.3\n"
     ]
    }
   ],
   "source": [
    "print('Q1. Version:')\n",
    "!wandb --version"
   ]
  },
  {
   "cell_type": "markdown",
   "id": "42b0aa9a-5eeb-4127-aa4a-28cd1474deef",
   "metadata": {},
   "source": [
    "# Q2. Download and preprocess the data\n",
    "\n",
    "We'll use the Green Taxi Trip Records dataset to predict the amount of tips for each trip. \n",
    "\n",
    "Download the data for January, February and March 2022 in parquet format from [here](https://www1.nyc.gov/site/tlc/about/tlc-trip-record-data.page).\n"
   ]
  },
  {
   "cell_type": "code",
   "execution_count": 4,
   "id": "aea52cc4-252d-43e7-ae7d-214b3ce863ec",
   "metadata": {
    "tags": []
   },
   "outputs": [
    {
     "name": "stdout",
     "output_type": "stream",
     "text": [
      "\u001b[34m\u001b[1mwandb\u001b[0m: Currently logged in as: \u001b[33mrifrif\u001b[0m. Use \u001b[1m`wandb login --relogin`\u001b[0m to force relogin\n",
      "\u001b[34m\u001b[1mwandb\u001b[0m: Tracking run with wandb version 0.15.3\n",
      "\u001b[34m\u001b[1mwandb\u001b[0m: Run data is saved locally in \u001b[35m\u001b[1m/home/jovyan/MLOps-Zoomcamp-2023/Week2/wandb/run-20230606_081420-wh5onw4i\u001b[0m\n",
      "\u001b[34m\u001b[1mwandb\u001b[0m: Run \u001b[1m`wandb offline`\u001b[0m to turn off syncing.\n",
      "\u001b[34m\u001b[1mwandb\u001b[0m: Syncing run \u001b[33msleek-rain-6\u001b[0m\n",
      "\u001b[34m\u001b[1mwandb\u001b[0m: ⭐️ View project at \u001b[34m\u001b[4mhttps://wandb.ai/rifrif/mlops_dtc\u001b[0m\n",
      "\u001b[34m\u001b[1mwandb\u001b[0m: 🚀 View run at \u001b[34m\u001b[4mhttps://wandb.ai/rifrif/mlops_dtc/runs/wh5onw4i\u001b[0m\n",
      "\u001b[34m\u001b[1mwandb\u001b[0m: Adding directory to artifact (./output)... Done. 0.0s\n",
      "\u001b[34m\u001b[1mwandb\u001b[0m: Waiting for W&B process to finish... \u001b[32m(success).\u001b[0m\n",
      "\u001b[34m\u001b[1mwandb\u001b[0m: 🚀 View run \u001b[33msleek-rain-6\u001b[0m at: \u001b[34m\u001b[4mhttps://wandb.ai/rifrif/mlops_dtc/runs/wh5onw4i\u001b[0m\n",
      "\u001b[34m\u001b[1mwandb\u001b[0m: Synced 6 W&B file(s), 0 media file(s), 4 artifact file(s) and 0 other file(s)\n",
      "\u001b[34m\u001b[1mwandb\u001b[0m: Find logs at: \u001b[35m\u001b[1m./wandb/run-20230606_081420-wh5onw4i/logs\u001b[0m\n",
      "Exception in thread NetStatThr:\n",
      "Traceback (most recent call last):\n",
      "  File \"/opt/conda/lib/python3.10/threading.py\", line 1016, in _bootstrap_inner\n",
      "    self.run()\n",
      "  File \"/opt/conda/lib/python3.10/threading.py\", line 953, in run\n",
      "    self._target(*self._args, **self._kwargs)\n",
      "  File \"/opt/conda/lib/python3.10/site-packages/wandb/sdk/wandb_run.py\", line 260, in check_network_status\n",
      "    self._loop_check_status(\n",
      "  File \"/opt/conda/lib/python3.10/site-packages/wandb/sdk/wandb_run.py\", line 216, in _loop_check_status\n",
      "    local_handle = request()\n",
      "  File \"/opt/conda/lib/python3.10/site-packages/wandb/sdk/interface/interface.py\", line 795, in deliver_network_status\n",
      "    return self._deliver_network_status(status)\n",
      "  File \"/opt/conda/lib/python3.10/site-packages/wandb/sdk/interface/interface_shared.py\", line 601, in _deliver_network_status\n",
      "    return self._deliver_record(record)\n",
      "  File \"/opt/conda/lib/python3.10/site-packages/wandb/sdk/interface/interface_shared.py\", line 560, in _deliver_record\n",
      "    handle = mailbox._deliver_record(record, interface=self)\n",
      "  File \"/opt/conda/lib/python3.10/site-packages/wandb/sdk/lib/mailbox.py\", line 455, in _deliver_record\n",
      "    interface._publish(record)\n",
      "  File \"/opt/conda/lib/python3.10/site-packages/wandb/sdk/interface/interface_sock.py\", line 51, in _publish\n",
      "    self._sock_client.send_record_publish(record)\n",
      "  File \"/opt/conda/lib/python3.10/site-packages/wandb/sdk/lib/sock_client.py\", line 221, in send_record_publish\n",
      "    self.send_server_request(server_req)\n",
      "  File \"/opt/conda/lib/python3.10/site-packages/wandb/sdk/lib/sock_client.py\", line 155, in send_server_request\n",
      "    self._send_message(msg)\n",
      "  File \"/opt/conda/lib/python3.10/site-packages/wandb/sdk/lib/sock_client.py\", line 152, in _send_message\n",
      "    self._sendall_with_error_handle(header + data)\n",
      "  File \"/opt/conda/lib/python3.10/site-packages/wandb/sdk/lib/sock_client.py\", line 130, in _sendall_with_error_handle\n",
      "    sent = self._sock.send(data)\n",
      "BrokenPipeError: [Errno 32] Broken pipe\n"
     ]
    }
   ],
   "source": [
    "!python homework-wandb/preprocess_data.py \\\n",
    "  --wandb_project mlops_dtc \\\n",
    "  --wandb_entity rifrif \\\n",
    "  --raw_data_path ./Data  \\\n",
    "  --dest_path output"
   ]
  },
  {
   "cell_type": "code",
   "execution_count": 5,
   "id": "00be8205-64b2-4c73-9b1e-08ef283470f7",
   "metadata": {
    "tags": []
   },
   "outputs": [
    {
     "name": "stdout",
     "output_type": "stream",
     "text": [
      "Question 2: Size of the DictVectorizer file: 153660 bytes\n"
     ]
    }
   ],
   "source": [
    "import os\n",
    "print('Question 2: Size of the DictVectorizer file:',os.path.getsize(\"output/dv.pkl\"),'bytes')"
   ]
  },
  {
   "cell_type": "markdown",
   "id": "f788da48-f341-49ce-a77c-bfc5aadb5c33",
   "metadata": {},
   "source": [
    "# Q3. Train a model with Weights & Biases logging\n",
    "\n",
    "We will train a `RandomForestRegressor` (from Scikit-Learn) on the taxi dataset.\n",
    "\n",
    "We have prepared the training script `train.py` for this exercise, which can be also found in the folder `homework-wandb`. \n",
    "\n",
    "The script will:\n",
    "\n",
    "* initialize a Weights & Biases run.\n",
    "* load the preprocessed datasets by fetching them from the Weights & Biases artifact previously created,\n",
    "* train the model on the training set,\n",
    "* calculate the MSE score on the validation set and log it to Weights & Biases,\n",
    "* save the trained model and log it to Weights & Biases as a model artifact."
   ]
  },
  {
   "cell_type": "code",
   "execution_count": 8,
   "id": "b328f744-2116-4327-8fa2-abd0d6a425ea",
   "metadata": {
    "tags": []
   },
   "outputs": [
    {
     "name": "stdout",
     "output_type": "stream",
     "text": [
      "\u001b[34m\u001b[1mwandb\u001b[0m: Currently logged in as: \u001b[33mrifrif\u001b[0m. Use \u001b[1m`wandb login --relogin`\u001b[0m to force relogin\n",
      "\u001b[34m\u001b[1mwandb\u001b[0m: Tracking run with wandb version 0.15.3\n",
      "\u001b[34m\u001b[1mwandb\u001b[0m: Run data is saved locally in \u001b[35m\u001b[1m/home/jovyan/MLOps-Zoomcamp-2023/Week2/wandb/run-20230606_083422-ncta458t\u001b[0m\n",
      "\u001b[34m\u001b[1mwandb\u001b[0m: Run \u001b[1m`wandb offline`\u001b[0m to turn off syncing.\n",
      "\u001b[34m\u001b[1mwandb\u001b[0m: Syncing run \u001b[33mwarm-snowball-8\u001b[0m\n",
      "\u001b[34m\u001b[1mwandb\u001b[0m: ⭐️ View project at \u001b[34m\u001b[4mhttps://wandb.ai/rifrif/mlops_dtc\u001b[0m\n",
      "\u001b[34m\u001b[1mwandb\u001b[0m: 🚀 View run at \u001b[34m\u001b[4mhttps://wandb.ai/rifrif/mlops_dtc/runs/ncta458t\u001b[0m\n",
      "\u001b[34m\u001b[1mwandb\u001b[0m:   4 of 4 files downloaded.  \n",
      "\u001b[34m\u001b[1mwandb\u001b[0m: Waiting for W&B process to finish... \u001b[32m(success).\u001b[0m\n",
      "\u001b[34m\u001b[1mwandb\u001b[0m: \n",
      "\u001b[34m\u001b[1mwandb\u001b[0m: Run history:\n",
      "\u001b[34m\u001b[1mwandb\u001b[0m: MSE ▁\n",
      "\u001b[34m\u001b[1mwandb\u001b[0m: \n",
      "\u001b[34m\u001b[1mwandb\u001b[0m: Run summary:\n",
      "\u001b[34m\u001b[1mwandb\u001b[0m: MSE 2.45398\n",
      "\u001b[34m\u001b[1mwandb\u001b[0m: \n",
      "\u001b[34m\u001b[1mwandb\u001b[0m: 🚀 View run \u001b[33mwarm-snowball-8\u001b[0m at: \u001b[34m\u001b[4mhttps://wandb.ai/rifrif/mlops_dtc/runs/ncta458t\u001b[0m\n",
      "\u001b[34m\u001b[1mwandb\u001b[0m: Synced 6 W&B file(s), 0 media file(s), 3 artifact file(s) and 0 other file(s)\n",
      "\u001b[34m\u001b[1mwandb\u001b[0m: Find logs at: \u001b[35m\u001b[1m./wandb/run-20230606_083422-ncta458t/logs\u001b[0m\n"
     ]
    }
   ],
   "source": [
    "!python homework-wandb/train.py \\\n",
    "  --wandb_project mlops_dtc \\\n",
    "  --wandb_entity rifrif \\\n",
    "  --data_artifact \"rifrif/mlops_dtc/NYC-Taxi:v1\"\n"
   ]
  },
  {
   "cell_type": "markdown",
   "id": "efdef321-93a3-4a8c-9c2d-6d55fdbf0334",
   "metadata": {
    "tags": []
   },
   "source": [
    "# Q4. Tune model hyperparameters\n",
    "\n",
    "Now let's try to reduce the validation error by tuning the hyperparameters of the `RandomForestRegressor` using [Weights & Biases Sweeps](https://docs.wandb.ai/guides/sweeps). We have prepared the script `sweep.py` for this exercise in the `homework-wandb` directory."
   ]
  },
  {
   "cell_type": "code",
   "execution_count": 11,
   "id": "1c35913c-b58c-498f-abae-ed0dd88a7dde",
   "metadata": {
    "tags": []
   },
   "outputs": [
    {
     "name": "stdout",
     "output_type": "stream",
     "text": [
      "Create sweep with ID: 65hsvtmw\n",
      "Sweep URL: https://wandb.ai/rifrif/mlops_dtc/sweeps/65hsvtmw\n",
      "\u001b[34m\u001b[1mwandb\u001b[0m: Agent Starting Run: 9q6ctt11 with config:\n",
      "\u001b[34m\u001b[1mwandb\u001b[0m: \tmax_depth: 9\n",
      "\u001b[34m\u001b[1mwandb\u001b[0m: \tmin_samples_leaf: 4\n",
      "\u001b[34m\u001b[1mwandb\u001b[0m: \tmin_samples_split: 2\n",
      "\u001b[34m\u001b[1mwandb\u001b[0m: \tn_estimators: 22\n",
      "\u001b[34m\u001b[1mwandb\u001b[0m: Currently logged in as: \u001b[33mrifrif\u001b[0m. Use \u001b[1m`wandb login --relogin`\u001b[0m to force relogin\n",
      "\u001b[34m\u001b[1mwandb\u001b[0m: Tracking run with wandb version 0.15.3\n",
      "\u001b[34m\u001b[1mwandb\u001b[0m: Run data is saved locally in \u001b[35m\u001b[1m/home/jovyan/MLOps-Zoomcamp-2023/Week2/wandb/run-20230606_085605-9q6ctt11\u001b[0m\n",
      "\u001b[34m\u001b[1mwandb\u001b[0m: Run \u001b[1m`wandb offline`\u001b[0m to turn off syncing.\n",
      "\u001b[34m\u001b[1mwandb\u001b[0m: Syncing run \u001b[33mtrue-sweep-1\u001b[0m\n",
      "\u001b[34m\u001b[1mwandb\u001b[0m: ⭐️ View project at \u001b[34m\u001b[4mhttps://wandb.ai/rifrif/mlops_dtc\u001b[0m\n",
      "\u001b[34m\u001b[1mwandb\u001b[0m: 🧹 View sweep at \u001b[34m\u001b[4mhttps://wandb.ai/rifrif/mlops_dtc/sweeps/65hsvtmw\u001b[0m\n",
      "\u001b[34m\u001b[1mwandb\u001b[0m: 🚀 View run at \u001b[34m\u001b[4mhttps://wandb.ai/rifrif/mlops_dtc/runs/9q6ctt11\u001b[0m\n",
      "\u001b[34m\u001b[1mwandb\u001b[0m:   4 of 4 files downloaded.  \n",
      "\u001b[34m\u001b[1mwandb\u001b[0m: Waiting for W&B process to finish... \u001b[32m(success).\u001b[0m\n",
      "\u001b[34m\u001b[1mwandb\u001b[0m: \n",
      "\u001b[34m\u001b[1mwandb\u001b[0m: Run history:\n",
      "\u001b[34m\u001b[1mwandb\u001b[0m: MSE ▁\n",
      "\u001b[34m\u001b[1mwandb\u001b[0m: \n",
      "\u001b[34m\u001b[1mwandb\u001b[0m: Run summary:\n",
      "\u001b[34m\u001b[1mwandb\u001b[0m: MSE 2.45377\n",
      "\u001b[34m\u001b[1mwandb\u001b[0m: \n",
      "\u001b[34m\u001b[1mwandb\u001b[0m: 🚀 View run \u001b[33mtrue-sweep-1\u001b[0m at: \u001b[34m\u001b[4mhttps://wandb.ai/rifrif/mlops_dtc/runs/9q6ctt11\u001b[0m\n",
      "\u001b[34m\u001b[1mwandb\u001b[0m: Synced 6 W&B file(s), 0 media file(s), 1 artifact file(s) and 0 other file(s)\n",
      "\u001b[34m\u001b[1mwandb\u001b[0m: Find logs at: \u001b[35m\u001b[1m./wandb/run-20230606_085605-9q6ctt11/logs\u001b[0m\n",
      "\u001b[34m\u001b[1mwandb\u001b[0m: Sweep Agent: Waiting for job.\n",
      "\u001b[34m\u001b[1mwandb\u001b[0m: Job received.\n",
      "\u001b[34m\u001b[1mwandb\u001b[0m: Agent Starting Run: m4a7engp with config:\n",
      "\u001b[34m\u001b[1mwandb\u001b[0m: \tmax_depth: 4\n",
      "\u001b[34m\u001b[1mwandb\u001b[0m: \tmin_samples_leaf: 1\n",
      "\u001b[34m\u001b[1mwandb\u001b[0m: \tmin_samples_split: 5\n",
      "\u001b[34m\u001b[1mwandb\u001b[0m: \tn_estimators: 48\n",
      "\u001b[34m\u001b[1mwandb\u001b[0m: Tracking run with wandb version 0.15.3\n",
      "\u001b[34m\u001b[1mwandb\u001b[0m: Run data is saved locally in \u001b[35m\u001b[1m/home/jovyan/MLOps-Zoomcamp-2023/Week2/wandb/run-20230606_085637-m4a7engp\u001b[0m\n",
      "\u001b[34m\u001b[1mwandb\u001b[0m: Run \u001b[1m`wandb offline`\u001b[0m to turn off syncing.\n",
      "\u001b[34m\u001b[1mwandb\u001b[0m: Syncing run \u001b[33mmisunderstood-sweep-2\u001b[0m\n",
      "\u001b[34m\u001b[1mwandb\u001b[0m: ⭐️ View project at \u001b[34m\u001b[4mhttps://wandb.ai/rifrif/mlops_dtc\u001b[0m\n",
      "\u001b[34m\u001b[1mwandb\u001b[0m: 🧹 View sweep at \u001b[34m\u001b[4mhttps://wandb.ai/rifrif/mlops_dtc/sweeps/65hsvtmw\u001b[0m\n",
      "\u001b[34m\u001b[1mwandb\u001b[0m: 🚀 View run at \u001b[34m\u001b[4mhttps://wandb.ai/rifrif/mlops_dtc/runs/m4a7engp\u001b[0m\n",
      "\u001b[34m\u001b[1mwandb\u001b[0m:   4 of 4 files downloaded.  \n",
      "\u001b[34m\u001b[1mwandb\u001b[0m: Waiting for W&B process to finish... \u001b[32m(success).\u001b[0m\n",
      "\u001b[34m\u001b[1mwandb\u001b[0m: \n",
      "\u001b[34m\u001b[1mwandb\u001b[0m: Run history:\n",
      "\u001b[34m\u001b[1mwandb\u001b[0m: MSE ▁\n",
      "\u001b[34m\u001b[1mwandb\u001b[0m: \n",
      "\u001b[34m\u001b[1mwandb\u001b[0m: Run summary:\n",
      "\u001b[34m\u001b[1mwandb\u001b[0m: MSE 2.47212\n",
      "\u001b[34m\u001b[1mwandb\u001b[0m: \n",
      "\u001b[34m\u001b[1mwandb\u001b[0m: 🚀 View run \u001b[33mmisunderstood-sweep-2\u001b[0m at: \u001b[34m\u001b[4mhttps://wandb.ai/rifrif/mlops_dtc/runs/m4a7engp\u001b[0m\n",
      "\u001b[34m\u001b[1mwandb\u001b[0m: Synced 6 W&B file(s), 0 media file(s), 1 artifact file(s) and 0 other file(s)\n",
      "\u001b[34m\u001b[1mwandb\u001b[0m: Find logs at: \u001b[35m\u001b[1m./wandb/run-20230606_085637-m4a7engp/logs\u001b[0m\n",
      "\u001b[34m\u001b[1mwandb\u001b[0m: Agent Starting Run: lho2nxxw with config:\n",
      "\u001b[34m\u001b[1mwandb\u001b[0m: \tmax_depth: 15\n",
      "\u001b[34m\u001b[1mwandb\u001b[0m: \tmin_samples_leaf: 1\n",
      "\u001b[34m\u001b[1mwandb\u001b[0m: \tmin_samples_split: 7\n",
      "\u001b[34m\u001b[1mwandb\u001b[0m: \tn_estimators: 24\n",
      "\u001b[34m\u001b[1mwandb\u001b[0m: Tracking run with wandb version 0.15.3\n",
      "\u001b[34m\u001b[1mwandb\u001b[0m: Run data is saved locally in \u001b[35m\u001b[1m/home/jovyan/MLOps-Zoomcamp-2023/Week2/wandb/run-20230606_085700-lho2nxxw\u001b[0m\n",
      "\u001b[34m\u001b[1mwandb\u001b[0m: Run \u001b[1m`wandb offline`\u001b[0m to turn off syncing.\n",
      "\u001b[34m\u001b[1mwandb\u001b[0m: Syncing run \u001b[33mdazzling-sweep-3\u001b[0m\n",
      "\u001b[34m\u001b[1mwandb\u001b[0m: ⭐️ View project at \u001b[34m\u001b[4mhttps://wandb.ai/rifrif/mlops_dtc\u001b[0m\n",
      "\u001b[34m\u001b[1mwandb\u001b[0m: 🧹 View sweep at \u001b[34m\u001b[4mhttps://wandb.ai/rifrif/mlops_dtc/sweeps/65hsvtmw\u001b[0m\n",
      "\u001b[34m\u001b[1mwandb\u001b[0m: 🚀 View run at \u001b[34m\u001b[4mhttps://wandb.ai/rifrif/mlops_dtc/runs/lho2nxxw\u001b[0m\n",
      "\u001b[34m\u001b[1mwandb\u001b[0m:   4 of 4 files downloaded.  \n",
      "\u001b[34m\u001b[1mwandb\u001b[0m: Waiting for W&B process to finish... \u001b[32m(success).\u001b[0m\n",
      "\u001b[34m\u001b[1mwandb\u001b[0m: \n",
      "\u001b[34m\u001b[1mwandb\u001b[0m: Run history:\n",
      "\u001b[34m\u001b[1mwandb\u001b[0m: MSE ▁\n",
      "\u001b[34m\u001b[1mwandb\u001b[0m: \n",
      "\u001b[34m\u001b[1mwandb\u001b[0m: Run summary:\n",
      "\u001b[34m\u001b[1mwandb\u001b[0m: MSE 2.4627\n",
      "\u001b[34m\u001b[1mwandb\u001b[0m: \n",
      "\u001b[34m\u001b[1mwandb\u001b[0m: 🚀 View run \u001b[33mdazzling-sweep-3\u001b[0m at: \u001b[34m\u001b[4mhttps://wandb.ai/rifrif/mlops_dtc/runs/lho2nxxw\u001b[0m\n",
      "\u001b[34m\u001b[1mwandb\u001b[0m: Synced 6 W&B file(s), 0 media file(s), 1 artifact file(s) and 0 other file(s)\n",
      "\u001b[34m\u001b[1mwandb\u001b[0m: Find logs at: \u001b[35m\u001b[1m./wandb/run-20230606_085700-lho2nxxw/logs\u001b[0m\n",
      "\u001b[34m\u001b[1mwandb\u001b[0m: Agent Starting Run: n0u9a41o with config:\n",
      "\u001b[34m\u001b[1mwandb\u001b[0m: \tmax_depth: 5\n",
      "\u001b[34m\u001b[1mwandb\u001b[0m: \tmin_samples_leaf: 4\n",
      "\u001b[34m\u001b[1mwandb\u001b[0m: \tmin_samples_split: 5\n",
      "\u001b[34m\u001b[1mwandb\u001b[0m: \tn_estimators: 33\n",
      "\u001b[34m\u001b[1mwandb\u001b[0m: Tracking run with wandb version 0.15.3\n",
      "\u001b[34m\u001b[1mwandb\u001b[0m: Run data is saved locally in \u001b[35m\u001b[1m/home/jovyan/MLOps-Zoomcamp-2023/Week2/wandb/run-20230606_085726-n0u9a41o\u001b[0m\n",
      "\u001b[34m\u001b[1mwandb\u001b[0m: Run \u001b[1m`wandb offline`\u001b[0m to turn off syncing.\n",
      "\u001b[34m\u001b[1mwandb\u001b[0m: Syncing run \u001b[33mfaithful-sweep-4\u001b[0m\n",
      "\u001b[34m\u001b[1mwandb\u001b[0m: ⭐️ View project at \u001b[34m\u001b[4mhttps://wandb.ai/rifrif/mlops_dtc\u001b[0m\n",
      "\u001b[34m\u001b[1mwandb\u001b[0m: 🧹 View sweep at \u001b[34m\u001b[4mhttps://wandb.ai/rifrif/mlops_dtc/sweeps/65hsvtmw\u001b[0m\n",
      "\u001b[34m\u001b[1mwandb\u001b[0m: 🚀 View run at \u001b[34m\u001b[4mhttps://wandb.ai/rifrif/mlops_dtc/runs/n0u9a41o\u001b[0m\n",
      "\u001b[34m\u001b[1mwandb\u001b[0m:   4 of 4 files downloaded.  \n",
      "\u001b[34m\u001b[1mwandb\u001b[0m: Waiting for W&B process to finish... \u001b[32m(success).\u001b[0m\n",
      "\u001b[34m\u001b[1mwandb\u001b[0m: \n",
      "\u001b[34m\u001b[1mwandb\u001b[0m: Run history:\n",
      "\u001b[34m\u001b[1mwandb\u001b[0m: MSE ▁\n",
      "\u001b[34m\u001b[1mwandb\u001b[0m: \n",
      "\u001b[34m\u001b[1mwandb\u001b[0m: Run summary:\n",
      "\u001b[34m\u001b[1mwandb\u001b[0m: MSE 2.46168\n",
      "\u001b[34m\u001b[1mwandb\u001b[0m: \n",
      "\u001b[34m\u001b[1mwandb\u001b[0m: 🚀 View run \u001b[33mfaithful-sweep-4\u001b[0m at: \u001b[34m\u001b[4mhttps://wandb.ai/rifrif/mlops_dtc/runs/n0u9a41o\u001b[0m\n",
      "\u001b[34m\u001b[1mwandb\u001b[0m: Synced 6 W&B file(s), 0 media file(s), 1 artifact file(s) and 0 other file(s)\n",
      "\u001b[34m\u001b[1mwandb\u001b[0m: Find logs at: \u001b[35m\u001b[1m./wandb/run-20230606_085726-n0u9a41o/logs\u001b[0m\n",
      "\u001b[34m\u001b[1mwandb\u001b[0m: Agent Starting Run: x4vpdzte with config:\n",
      "\u001b[34m\u001b[1mwandb\u001b[0m: \tmax_depth: 9\n",
      "\u001b[34m\u001b[1mwandb\u001b[0m: \tmin_samples_leaf: 4\n",
      "\u001b[34m\u001b[1mwandb\u001b[0m: \tmin_samples_split: 2\n",
      "\u001b[34m\u001b[1mwandb\u001b[0m: \tn_estimators: 25\n",
      "\u001b[34m\u001b[1mwandb\u001b[0m: Tracking run with wandb version 0.15.3\n",
      "\u001b[34m\u001b[1mwandb\u001b[0m: Run data is saved locally in \u001b[35m\u001b[1m/home/jovyan/MLOps-Zoomcamp-2023/Week2/wandb/run-20230606_085751-x4vpdzte\u001b[0m\n",
      "\u001b[34m\u001b[1mwandb\u001b[0m: Run \u001b[1m`wandb offline`\u001b[0m to turn off syncing.\n",
      "\u001b[34m\u001b[1mwandb\u001b[0m: Syncing run \u001b[33mcopper-sweep-5\u001b[0m\n",
      "\u001b[34m\u001b[1mwandb\u001b[0m: ⭐️ View project at \u001b[34m\u001b[4mhttps://wandb.ai/rifrif/mlops_dtc\u001b[0m\n",
      "\u001b[34m\u001b[1mwandb\u001b[0m: 🧹 View sweep at \u001b[34m\u001b[4mhttps://wandb.ai/rifrif/mlops_dtc/sweeps/65hsvtmw\u001b[0m\n",
      "\u001b[34m\u001b[1mwandb\u001b[0m: 🚀 View run at \u001b[34m\u001b[4mhttps://wandb.ai/rifrif/mlops_dtc/runs/x4vpdzte\u001b[0m\n",
      "\u001b[34m\u001b[1mwandb\u001b[0m:   4 of 4 files downloaded.  \n",
      "\u001b[34m\u001b[1mwandb\u001b[0m: Waiting for W&B process to finish... \u001b[32m(success).\u001b[0m\n",
      "\u001b[34m\u001b[1mwandb\u001b[0m: \n",
      "\u001b[34m\u001b[1mwandb\u001b[0m: Run history:\n",
      "\u001b[34m\u001b[1mwandb\u001b[0m: MSE ▁\n",
      "\u001b[34m\u001b[1mwandb\u001b[0m: \n",
      "\u001b[34m\u001b[1mwandb\u001b[0m: Run summary:\n",
      "\u001b[34m\u001b[1mwandb\u001b[0m: MSE 2.45373\n",
      "\u001b[34m\u001b[1mwandb\u001b[0m: \n",
      "\u001b[34m\u001b[1mwandb\u001b[0m: 🚀 View run \u001b[33mcopper-sweep-5\u001b[0m at: \u001b[34m\u001b[4mhttps://wandb.ai/rifrif/mlops_dtc/runs/x4vpdzte\u001b[0m\n",
      "\u001b[34m\u001b[1mwandb\u001b[0m: Synced 6 W&B file(s), 0 media file(s), 1 artifact file(s) and 0 other file(s)\n",
      "\u001b[34m\u001b[1mwandb\u001b[0m: Find logs at: \u001b[35m\u001b[1m./wandb/run-20230606_085751-x4vpdzte/logs\u001b[0m\n"
     ]
    }
   ],
   "source": [
    "!python homework-wandb/sweep.py \\\n",
    "  --wandb_project mlops_dtc \\\n",
    "  --wandb_entity rifrif \\\n",
    "  --data_artifact \"rifrif/mlops_dtc/NYC-Taxi:v1\"\n"
   ]
  },
  {
   "cell_type": "markdown",
   "id": "035e0427-93c4-42b1-9229-ef258eb0ba3f",
   "metadata": {},
   "source": [
    "# Q5. Link the best model to the model registry\n",
    "\n",
    "Now that we have obtained the optimal set of hyperparameters and trained the best model, we can assume that we are ready to test some of these models in production. In this exercise, you'll create a model registry and link the best model from the Sweep to the model registry.\n",
    "\n",
    "First, you will need to create a Registered Model to hold all the candidate models for your particular modeling task. You can refer to [this section](https://docs.wandb.ai/guides/models/walkthrough#1-create-a-new-registered-model) of the official docs to learn how to create a registered model using the Weights & Biases UI.\n",
    "\n",
    "Once you have created the Registered Model successfully, you can navigate to the best run of your sweep, navigate to the model artifact created by the particular run, and click on the Link to Registry option from the UI. This would link the model artifact to the Registered Model. You can choose to add some suitable aliases for the Registered Model, such as `production`, `best`, etc.\n"
   ]
  },
  {
   "cell_type": "code",
   "execution_count": null,
   "id": "bab1f21a-867d-4980-a938-c882845d157e",
   "metadata": {},
   "outputs": [],
   "source": []
  }
 ],
 "metadata": {
  "kernelspec": {
   "display_name": "Python 3 (ipykernel)",
   "language": "python",
   "name": "python3"
  },
  "language_info": {
   "codemirror_mode": {
    "name": "ipython",
    "version": 3
   },
   "file_extension": ".py",
   "mimetype": "text/x-python",
   "name": "python",
   "nbconvert_exporter": "python",
   "pygments_lexer": "ipython3",
   "version": "3.10.11"
  }
 },
 "nbformat": 4,
 "nbformat_minor": 5
}
