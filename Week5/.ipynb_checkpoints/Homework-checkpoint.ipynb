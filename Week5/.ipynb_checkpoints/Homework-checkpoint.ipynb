{
 "cells": [
  {
   "cell_type": "markdown",
   "id": "770ac974-db81-4f34-b6d9-b988176164ae",
   "metadata": {},
   "source": [
    "## Homework\n",
    "\n",
    "The goal of this homework is to familiarize users with monitoring for ML batch services, using PostgreSQL database to store metrics and Grafana to visualize them.\n",
    "\n",
    "\n",
    "\n",
    "## Q1. Prepare the dataset\n",
    "\n",
    "Start with `baseline_model_nyc_taxi_data.ipynb`. Download the March 2023 Green Taxi data. We will use this data to simulate a production usage of a taxi trip duration prediction service.\n",
    "\n",
    "What is the shape of the downloaded data? How many rows are there?"
   ]
  },
  {
   "cell_type": "code",
   "execution_count": 15,
   "id": "d92a4dc3-3a78-40d3-85aa-edccb4362259",
   "metadata": {
    "tags": []
   },
   "outputs": [],
   "source": [
    "import requests\n",
    "import datetime\n",
    "import pandas as pd\n",
    "\n",
    "from evidently import ColumnMapping\n",
    "from evidently.report import Report\n",
    "from evidently.metrics import ColumnDriftMetric, DatasetDriftMetric, DatasetMissingValuesMetric, ColumnQuantileMetric, ColumnCorrelationsMetric\n",
    "\n",
    "from joblib import load, dump\n",
    "from tqdm import tqdm\n",
    "\n",
    "from sklearn.linear_model import LinearRegression\n",
    "from sklearn.metrics import mean_absolute_error, mean_absolute_percentage_error"
   ]
  },
  {
   "cell_type": "code",
   "execution_count": 2,
   "id": "bc66d271-b2c8-40bb-bb64-153834c67509",
   "metadata": {
    "tags": []
   },
   "outputs": [
    {
     "name": "stdout",
     "output_type": "stream",
     "text": [
      "Download files:\n"
     ]
    },
    {
     "name": "stderr",
     "output_type": "stream",
     "text": [
      "green_tripdata_2023-03.parquet: 100%|██████████| 1730999/1730999 [00:05<00:00, 337099.59it/s, save to ./data/green_tripdata_2023-03.parquet]\n"
     ]
    }
   ],
   "source": [
    "files = [('green_tripdata_2023-03.parquet', './data')]\n",
    "\n",
    "print(\"Download files:\")\n",
    "for file, path in files:\n",
    "    url=f\"https://d37ci6vzurychx.cloudfront.net/trip-data/{file}\"\n",
    "    resp=requests.get(url, stream=True)\n",
    "    save_path=f\"{path}/{file}\"\n",
    "    with open(save_path, \"wb\") as handle:\n",
    "        for data in tqdm(resp.iter_content(),\n",
    "                        desc=f\"{file}\",\n",
    "                        postfix=f\"save to {save_path}\",\n",
    "                        total=int(resp.headers[\"Content-Length\"])):\n",
    "            handle.write(data)"
   ]
  },
  {
   "cell_type": "code",
   "execution_count": 6,
   "id": "1fd0c156-0563-4e6a-93df-97ba98c3657e",
   "metadata": {
    "tags": []
   },
   "outputs": [
    {
     "data": {
      "text/plain": [
       "72044"
      ]
     },
     "execution_count": 6,
     "metadata": {},
     "output_type": "execute_result"
    }
   ],
   "source": [
    "import pandas as pd\n",
    "mar23_data = pd.read_parquet('data/green_tripdata_2023-03.parquet')\n",
    "len(df)"
   ]
  },
  {
   "cell_type": "markdown",
   "id": "61d54877-dd6f-4a88-903d-fa78bac0b35b",
   "metadata": {},
   "source": [
    "## Q2. Metric\n",
    "\n",
    "Let's expand the number of data quality metrics we’d like to monitor! Please add one metric of your choice and a quantile value for the `\"fare_amount\"` column (`quantile=0.5`).\n",
    "\n",
    "Hint: explore evidently metric `ColumnQuantileMetric` (from `evidently.metrics import ColumnQuantileMetric`) \n",
    "\n",
    "What metric did you choose?"
   ]
  },
  {
   "cell_type": "markdown",
   "id": "53ae707c-7234-4cd7-b2aa-a5faf36f9402",
   "metadata": {},
   "source": [
    "DatasetDriftMetric"
   ]
  },
  {
   "cell_type": "markdown",
   "id": "0b7f4cde-057c-44e3-be2f-8089923f8b3b",
   "metadata": {},
   "source": [
    "## Q3. Prefect flow \n",
    "\n",
    "Let’s update prefect tasks by giving them nice meaningful names, specifying a number of delays and retries.\n",
    "\n",
    "Hint: use `evidently_metrics_calculation.py` script as a starting point to implement your solution. Check the  prefect docs to check task parameters.\n",
    "\n",
    "What is the correct way of doing that?\n",
    "\n",
    "`@task(retries=2, retry_delay_seconds=5, name=\"calculate metrics\")`"
   ]
  },
  {
   "cell_type": "markdown",
   "id": "e0365cf2-511f-45d9-b426-e34a026907c1",
   "metadata": {},
   "source": [
    "## Q4. Monitoring\n",
    "\n",
    "Let’s start monitoring. Run expanded monitoring for a new batch of data (March 2023). \n",
    "\n",
    "What is the maximum value of metric `quantile = 0.5` on th `\"fare_amount\"` column during March 2023 (calculated daily)?"
   ]
  },
  {
   "cell_type": "code",
   "execution_count": 7,
   "id": "4ca8b7c3-c084-4f30-8501-e6cfd44ea3c7",
   "metadata": {
    "tags": []
   },
   "outputs": [],
   "source": [
    "mar23_data[\"duration_min\"] = mar23_data.lpep_dropoff_datetime - mar23_data.lpep_pickup_datetime\n",
    "mar23_data.duration_min = mar23_data.duration_min.apply(lambda td : float(td.total_seconds())/60)\n",
    "\n",
    "mar23_data = mar23_data[(mar23_data.duration_min >= 0) & (mar23_data.duration_min <= 60)]\n",
    "mar23_data = mar23_data[(mar23_data.passenger_count > 0) & (mar23_data.passenger_count <= 8)]\n"
   ]
  },
  {
   "cell_type": "code",
   "execution_count": 8,
   "id": "4036f6b3-dad0-416b-8a99-0b91a71bd676",
   "metadata": {
    "tags": []
   },
   "outputs": [],
   "source": [
    "# data labeling like above\n",
    "target = \"duration_min\"\n",
    "num_features = [\"passenger_count\", \"trip_distance\", \"fare_amount\", \"total_amount\"]\n",
    "cat_features = [\"PULocationID\", \"DOLocationID\"]"
   ]
  },
  {
   "cell_type": "code",
   "execution_count": 10,
   "id": "5244e390-c1ba-4869-926b-269e286708d6",
   "metadata": {
    "tags": []
   },
   "outputs": [],
   "source": [
    "reference_data = pd.read_parquet('data/reference.parquet')\n",
    "with open('models/lin_reg.bin', 'rb') as f_in:\n",
    "\tmodel = load(f_in)"
   ]
  },
  {
   "cell_type": "code",
   "execution_count": 11,
   "id": "b3449666-9d4e-4b33-ae30-d883f3f89d2c",
   "metadata": {
    "tags": []
   },
   "outputs": [
    {
     "name": "stdout",
     "output_type": "stream",
     "text": [
      "3.9341453215257784\n"
     ]
    }
   ],
   "source": [
    "current_preds = model.predict(mar23_data[num_features + cat_features])\n",
    "mar23_data['prediction'] = current_preds\n",
    "print(mean_absolute_error(mar23_data.duration_min, mar23_data.prediction))"
   ]
  },
  {
   "cell_type": "code",
   "execution_count": 16,
   "id": "1f22d4a6-f269-43b3-b42e-3a0836dfc0cb",
   "metadata": {
    "tags": []
   },
   "outputs": [],
   "source": [
    "column_mapping = ColumnMapping(\n",
    "    # not analyse any target\n",
    "    target=None,\n",
    "    prediction='prediction',\n",
    "    numerical_features=num_features,\n",
    "    categorical_features=cat_features\n",
    ")\n",
    "\n",
    "report = Report(metrics=[\n",
    "    # choose prediction col to analyse\n",
    "    ColumnDriftMetric(column_name='prediction'),\n",
    "    DatasetDriftMetric(),\n",
    "    DatasetMissingValuesMetric(),\n",
    "    ColumnQuantileMetric(column_name=\"fare_amount\", quantile=0.5),\n",
    "    ColumnCorrelationsMetric(column_name=\"prediction\")\n",
    "]\n",
    ")"
   ]
  },
  {
   "cell_type": "code",
   "execution_count": 17,
   "id": "dffc21b5-f01c-497d-af7e-c7d5a709e3b4",
   "metadata": {
    "tags": []
   },
   "outputs": [
    {
     "name": "stderr",
     "output_type": "stream",
     "text": [
      "WARNING:root:Column ehail_fee have different types in reference object and current float64. Returning type from reference\n",
      "WARNING:root:Column ehail_fee have different types in reference object and current float64. Returning type from reference\n"
     ]
    }
   ],
   "source": [
    "report.run(reference_data=reference_data, current_data=mar23_data, column_mapping=column_mapping)\n",
    "result = report.as_dict()\n"
   ]
  },
  {
   "cell_type": "code",
   "execution_count": 18,
   "id": "5a07ed5f-d1e5-4b65-a741-d6042beb80f5",
   "metadata": {
    "tags": []
   },
   "outputs": [
    {
     "data": {
      "text/plain": [
       "{'metrics': [{'metric': 'ColumnDriftMetric',\n",
       "   'result': {'column_name': 'prediction',\n",
       "    'column_type': 'num',\n",
       "    'stattest_name': 'Wasserstein distance (normed)',\n",
       "    'stattest_threshold': 0.1,\n",
       "    'drift_score': 0.40395123422956475,\n",
       "    'drift_detected': True,\n",
       "    'current': {'small_distribution': {'x': [-66.42239440921844,\n",
       "       -30.212701095002565,\n",
       "       5.996992219213311,\n",
       "       42.20668553342918,\n",
       "       78.41637884764506,\n",
       "       114.62607216186095,\n",
       "       150.8357654760768,\n",
       "       187.04545879029268,\n",
       "       223.25515210450857,\n",
       "       259.46484541872445,\n",
       "       295.67453873294033],\n",
       "      'y': [7.502897273376752e-06,\n",
       "       0.0001533925664779247,\n",
       "       0.02718508095957547,\n",
       "       0.0002517638862844199,\n",
       "       1.3338484041558668e-05,\n",
       "       1.2504828788961262e-06,\n",
       "       1.2504828788961251e-06,\n",
       "       2.084138131493542e-06,\n",
       "       4.1682762629870836e-07,\n",
       "       8.336552525974167e-07]}},\n",
       "    'reference': {'small_distribution': {'x': [-36.73636669418323,\n",
       "       -15.174383681787852,\n",
       "       6.387599330607529,\n",
       "       27.949582343002902,\n",
       "       49.51156535539829,\n",
       "       71.07354836779368,\n",
       "       92.63553138018904,\n",
       "       114.19751439258442,\n",
       "       135.7594974049798,\n",
       "       157.3214804173752,\n",
       "       178.8834634297706],\n",
       "      'y': [9.197953980857077e-06,\n",
       "       0.0011092732500913634,\n",
       "       0.04410786851980204,\n",
       "       0.001078000206556449,\n",
       "       4.598976990428536e-05,\n",
       "       1.6556317165542753e-05,\n",
       "       1.839590796171415e-06,\n",
       "       3.67918159234283e-06,\n",
       "       1.839590796171415e-06,\n",
       "       3.67918159234283e-06]}}}},\n",
       "  {'metric': 'DatasetDriftMetric',\n",
       "   'result': {'drift_share': 0.5,\n",
       "    'number_of_columns': 7,\n",
       "    'number_of_drifted_columns': 4,\n",
       "    'share_of_drifted_columns': 0.5714285714285714,\n",
       "    'dataset_drift': True}},\n",
       "  {'metric': 'DatasetMissingValuesMetric',\n",
       "   'result': {'current': {'different_missing_values': {'': 0,\n",
       "      -inf: 0,\n",
       "      None: 66257,\n",
       "      inf: 0},\n",
       "     'number_of_different_missing_values': 1,\n",
       "     'different_missing_values_by_column': {'VendorID': {'': 0,\n",
       "       -inf: 0,\n",
       "       None: 0,\n",
       "       inf: 0},\n",
       "      'lpep_pickup_datetime': {'': 0, -inf: 0, None: 0, inf: 0},\n",
       "      'lpep_dropoff_datetime': {'': 0, -inf: 0, None: 0, inf: 0},\n",
       "      'store_and_fwd_flag': {'': 0, -inf: 0, None: 0, inf: 0},\n",
       "      'RatecodeID': {'': 0, -inf: 0, None: 0, inf: 0},\n",
       "      'PULocationID': {'': 0, -inf: 0, None: 0, inf: 0},\n",
       "      'DOLocationID': {'': 0, -inf: 0, None: 0, inf: 0},\n",
       "      'passenger_count': {'': 0, -inf: 0, None: 0, inf: 0},\n",
       "      'trip_distance': {'': 0, -inf: 0, None: 0, inf: 0},\n",
       "      'fare_amount': {'': 0, -inf: 0, None: 0, inf: 0},\n",
       "      'extra': {'': 0, -inf: 0, None: 0, inf: 0},\n",
       "      'mta_tax': {'': 0, -inf: 0, None: 0, inf: 0},\n",
       "      'tip_amount': {'': 0, -inf: 0, None: 0, inf: 0},\n",
       "      'tolls_amount': {'': 0, -inf: 0, None: 0, inf: 0},\n",
       "      'ehail_fee': {'': 0, -inf: 0, None: 66255, inf: 0},\n",
       "      'improvement_surcharge': {'': 0, -inf: 0, None: 0, inf: 0},\n",
       "      'total_amount': {'': 0, -inf: 0, None: 0, inf: 0},\n",
       "      'payment_type': {'': 0, -inf: 0, None: 0, inf: 0},\n",
       "      'trip_type': {'': 0, -inf: 0, None: 2, inf: 0},\n",
       "      'congestion_surcharge': {'': 0, -inf: 0, None: 0, inf: 0},\n",
       "      'duration_min': {'': 0, -inf: 0, None: 0, inf: 0},\n",
       "      'prediction': {'': 0, -inf: 0, None: 0, inf: 0}},\n",
       "     'number_of_different_missing_values_by_column': {'VendorID': 0,\n",
       "      'lpep_pickup_datetime': 0,\n",
       "      'lpep_dropoff_datetime': 0,\n",
       "      'store_and_fwd_flag': 0,\n",
       "      'RatecodeID': 0,\n",
       "      'PULocationID': 0,\n",
       "      'DOLocationID': 0,\n",
       "      'passenger_count': 0,\n",
       "      'trip_distance': 0,\n",
       "      'fare_amount': 0,\n",
       "      'extra': 0,\n",
       "      'mta_tax': 0,\n",
       "      'tip_amount': 0,\n",
       "      'tolls_amount': 0,\n",
       "      'ehail_fee': 1,\n",
       "      'improvement_surcharge': 0,\n",
       "      'total_amount': 0,\n",
       "      'payment_type': 0,\n",
       "      'trip_type': 1,\n",
       "      'congestion_surcharge': 0,\n",
       "      'duration_min': 0,\n",
       "      'prediction': 0},\n",
       "     'number_of_missing_values': 66257,\n",
       "     'share_of_missing_values': 0.045455917563683015,\n",
       "     'number_of_missing_values_by_column': {'VendorID': 0,\n",
       "      'lpep_pickup_datetime': 0,\n",
       "      'lpep_dropoff_datetime': 0,\n",
       "      'store_and_fwd_flag': 0,\n",
       "      'RatecodeID': 0,\n",
       "      'PULocationID': 0,\n",
       "      'DOLocationID': 0,\n",
       "      'passenger_count': 0,\n",
       "      'trip_distance': 0,\n",
       "      'fare_amount': 0,\n",
       "      'extra': 0,\n",
       "      'mta_tax': 0,\n",
       "      'tip_amount': 0,\n",
       "      'tolls_amount': 0,\n",
       "      'ehail_fee': 66255,\n",
       "      'improvement_surcharge': 0,\n",
       "      'total_amount': 0,\n",
       "      'payment_type': 0,\n",
       "      'trip_type': 2,\n",
       "      'congestion_surcharge': 0,\n",
       "      'duration_min': 0,\n",
       "      'prediction': 0},\n",
       "     'share_of_missing_values_by_column': {'VendorID': 0.0,\n",
       "      'lpep_pickup_datetime': 0.0,\n",
       "      'lpep_dropoff_datetime': 0.0,\n",
       "      'store_and_fwd_flag': 0.0,\n",
       "      'RatecodeID': 0.0,\n",
       "      'PULocationID': 0.0,\n",
       "      'DOLocationID': 0.0,\n",
       "      'passenger_count': 0.0,\n",
       "      'trip_distance': 0.0,\n",
       "      'fare_amount': 0.0,\n",
       "      'extra': 0.0,\n",
       "      'mta_tax': 0.0,\n",
       "      'tip_amount': 0.0,\n",
       "      'tolls_amount': 0.0,\n",
       "      'ehail_fee': 1.0,\n",
       "      'improvement_surcharge': 0.0,\n",
       "      'total_amount': 0.0,\n",
       "      'payment_type': 0.0,\n",
       "      'trip_type': 3.0186401026337635e-05,\n",
       "      'congestion_surcharge': 0.0,\n",
       "      'duration_min': 0.0,\n",
       "      'prediction': 0.0},\n",
       "     'number_of_rows': 66255,\n",
       "     'number_of_rows_with_missing_values': 66255,\n",
       "     'share_of_rows_with_missing_values': 1.0,\n",
       "     'number_of_columns': 22,\n",
       "     'columns_with_missing_values': ['ehail_fee', 'trip_type'],\n",
       "     'number_of_columns_with_missing_values': 2,\n",
       "     'share_of_columns_with_missing_values': 0.09090909090909091},\n",
       "    'reference': {'different_missing_values': {'': 0,\n",
       "      -inf: 0,\n",
       "      None: 25211,\n",
       "      inf: 0},\n",
       "     'number_of_different_missing_values': 1,\n",
       "     'different_missing_values_by_column': {'VendorID': {'': 0,\n",
       "       -inf: 0,\n",
       "       None: 0,\n",
       "       inf: 0},\n",
       "      'lpep_pickup_datetime': {'': 0, -inf: 0, None: 0, inf: 0},\n",
       "      'lpep_dropoff_datetime': {'': 0, -inf: 0, None: 0, inf: 0},\n",
       "      'store_and_fwd_flag': {'': 0, -inf: 0, None: 0, inf: 0},\n",
       "      'RatecodeID': {'': 0, -inf: 0, None: 0, inf: 0},\n",
       "      'PULocationID': {'': 0, -inf: 0, None: 0, inf: 0},\n",
       "      'DOLocationID': {'': 0, -inf: 0, None: 0, inf: 0},\n",
       "      'passenger_count': {'': 0, -inf: 0, None: 0, inf: 0},\n",
       "      'trip_distance': {'': 0, -inf: 0, None: 0, inf: 0},\n",
       "      'fare_amount': {'': 0, -inf: 0, None: 0, inf: 0},\n",
       "      'extra': {'': 0, -inf: 0, None: 0, inf: 0},\n",
       "      'mta_tax': {'': 0, -inf: 0, None: 0, inf: 0},\n",
       "      'tip_amount': {'': 0, -inf: 0, None: 0, inf: 0},\n",
       "      'tolls_amount': {'': 0, -inf: 0, None: 0, inf: 0},\n",
       "      'ehail_fee': {'': 0, -inf: 0, None: 25211, inf: 0},\n",
       "      'improvement_surcharge': {'': 0, -inf: 0, None: 0, inf: 0},\n",
       "      'total_amount': {'': 0, -inf: 0, None: 0, inf: 0},\n",
       "      'payment_type': {'': 0, -inf: 0, None: 0, inf: 0},\n",
       "      'trip_type': {'': 0, -inf: 0, None: 0, inf: 0},\n",
       "      'congestion_surcharge': {'': 0, -inf: 0, None: 0, inf: 0},\n",
       "      'duration_min': {'': 0, -inf: 0, None: 0, inf: 0},\n",
       "      'prediction': {'': 0, -inf: 0, None: 0, inf: 0}},\n",
       "     'number_of_different_missing_values_by_column': {'VendorID': 0,\n",
       "      'lpep_pickup_datetime': 0,\n",
       "      'lpep_dropoff_datetime': 0,\n",
       "      'store_and_fwd_flag': 0,\n",
       "      'RatecodeID': 0,\n",
       "      'PULocationID': 0,\n",
       "      'DOLocationID': 0,\n",
       "      'passenger_count': 0,\n",
       "      'trip_distance': 0,\n",
       "      'fare_amount': 0,\n",
       "      'extra': 0,\n",
       "      'mta_tax': 0,\n",
       "      'tip_amount': 0,\n",
       "      'tolls_amount': 0,\n",
       "      'ehail_fee': 1,\n",
       "      'improvement_surcharge': 0,\n",
       "      'total_amount': 0,\n",
       "      'payment_type': 0,\n",
       "      'trip_type': 0,\n",
       "      'congestion_surcharge': 0,\n",
       "      'duration_min': 0,\n",
       "      'prediction': 0},\n",
       "     'number_of_missing_values': 25211,\n",
       "     'share_of_missing_values': 0.045454545454545456,\n",
       "     'number_of_missing_values_by_column': {'VendorID': 0,\n",
       "      'lpep_pickup_datetime': 0,\n",
       "      'lpep_dropoff_datetime': 0,\n",
       "      'store_and_fwd_flag': 0,\n",
       "      'RatecodeID': 0,\n",
       "      'PULocationID': 0,\n",
       "      'DOLocationID': 0,\n",
       "      'passenger_count': 0,\n",
       "      'trip_distance': 0,\n",
       "      'fare_amount': 0,\n",
       "      'extra': 0,\n",
       "      'mta_tax': 0,\n",
       "      'tip_amount': 0,\n",
       "      'tolls_amount': 0,\n",
       "      'ehail_fee': 25211,\n",
       "      'improvement_surcharge': 0,\n",
       "      'total_amount': 0,\n",
       "      'payment_type': 0,\n",
       "      'trip_type': 0,\n",
       "      'congestion_surcharge': 0,\n",
       "      'duration_min': 0,\n",
       "      'prediction': 0},\n",
       "     'share_of_missing_values_by_column': {'VendorID': 0.0,\n",
       "      'lpep_pickup_datetime': 0.0,\n",
       "      'lpep_dropoff_datetime': 0.0,\n",
       "      'store_and_fwd_flag': 0.0,\n",
       "      'RatecodeID': 0.0,\n",
       "      'PULocationID': 0.0,\n",
       "      'DOLocationID': 0.0,\n",
       "      'passenger_count': 0.0,\n",
       "      'trip_distance': 0.0,\n",
       "      'fare_amount': 0.0,\n",
       "      'extra': 0.0,\n",
       "      'mta_tax': 0.0,\n",
       "      'tip_amount': 0.0,\n",
       "      'tolls_amount': 0.0,\n",
       "      'ehail_fee': 1.0,\n",
       "      'improvement_surcharge': 0.0,\n",
       "      'total_amount': 0.0,\n",
       "      'payment_type': 0.0,\n",
       "      'trip_type': 0.0,\n",
       "      'congestion_surcharge': 0.0,\n",
       "      'duration_min': 0.0,\n",
       "      'prediction': 0.0},\n",
       "     'number_of_rows': 25211,\n",
       "     'number_of_rows_with_missing_values': 25211,\n",
       "     'share_of_rows_with_missing_values': 1.0,\n",
       "     'number_of_columns': 22,\n",
       "     'columns_with_missing_values': ['ehail_fee'],\n",
       "     'number_of_columns_with_missing_values': 1,\n",
       "     'share_of_columns_with_missing_values': 0.045454545454545456}}},\n",
       "  {'metric': 'ColumnQuantileMetric',\n",
       "   'result': {'column_name': 'fare_amount',\n",
       "    'column_type': 'num',\n",
       "    'quantile': 0.5,\n",
       "    'current': {'value': 12.8},\n",
       "    'reference': {'value': 10.0}}},\n",
       "  {'metric': 'ColumnCorrelationsMetric',\n",
       "   'result': {'column_name': 'prediction',\n",
       "    'current': {'pearson': {'column_name': 'prediction',\n",
       "      'kind': 'pearson',\n",
       "      'values': {'x': ['passenger_count',\n",
       "        'trip_distance',\n",
       "        'fare_amount',\n",
       "        'total_amount'],\n",
       "       'y': [0.00912494186184666,\n",
       "        0.790407847382481,\n",
       "        0.9933601474505193,\n",
       "        0.9839636274576733]}},\n",
       "     'spearman': {'column_name': 'prediction',\n",
       "      'kind': 'spearman',\n",
       "      'values': {'x': ['passenger_count',\n",
       "        'trip_distance',\n",
       "        'fare_amount',\n",
       "        'total_amount'],\n",
       "       'y': [0.017125577009466913,\n",
       "        0.8154441317470709,\n",
       "        0.9861252489140606,\n",
       "        0.9794597652825381]}},\n",
       "     'kendall': {'column_name': 'prediction',\n",
       "      'kind': 'kendall',\n",
       "      'values': {'x': ['passenger_count',\n",
       "        'trip_distance',\n",
       "        'fare_amount',\n",
       "        'total_amount'],\n",
       "       'y': [0.013710226441397612,\n",
       "        0.7045651338715974,\n",
       "        0.9140423458026549,\n",
       "        0.8788591403348839]}}},\n",
       "    'reference': {'pearson': {'column_name': 'prediction',\n",
       "      'kind': 'pearson',\n",
       "      'values': {'x': ['passenger_count',\n",
       "        'trip_distance',\n",
       "        'fare_amount',\n",
       "        'total_amount'],\n",
       "       'y': [-0.006490352479259573,\n",
       "        0.33109688356860795,\n",
       "        0.9929968494045851,\n",
       "        0.9848884861623477]}},\n",
       "     'spearman': {'column_name': 'prediction',\n",
       "      'kind': 'spearman',\n",
       "      'values': {'x': ['passenger_count',\n",
       "        'trip_distance',\n",
       "        'fare_amount',\n",
       "        'total_amount'],\n",
       "       'y': [0.011377614568095685,\n",
       "        0.7518546066604217,\n",
       "        0.9827249055541036,\n",
       "        0.9793726437841823]}},\n",
       "     'kendall': {'column_name': 'prediction',\n",
       "      'kind': 'kendall',\n",
       "      'values': {'x': ['passenger_count',\n",
       "        'trip_distance',\n",
       "        'fare_amount',\n",
       "        'total_amount'],\n",
       "       'y': [0.00913478607718568,\n",
       "        0.6636643660916761,\n",
       "        0.9048013528756851,\n",
       "        0.88207595768973]}}}}}]}"
      ]
     },
     "execution_count": 18,
     "metadata": {},
     "output_type": "execute_result"
    }
   ],
   "source": [
    "result"
   ]
  },
  {
   "cell_type": "code",
   "execution_count": 19,
   "id": "72f7f313-4a57-4ea4-a496-7c4094db5952",
   "metadata": {
    "tags": []
   },
   "outputs": [
    {
     "data": {
      "text/plain": [
       "{'column_name': 'fare_amount',\n",
       " 'column_type': 'num',\n",
       " 'quantile': 0.5,\n",
       " 'current': {'value': 12.8},\n",
       " 'reference': {'value': 10.0}}"
      ]
     },
     "execution_count": 19,
     "metadata": {},
     "output_type": "execute_result"
    }
   ],
   "source": [
    "result['metrics'][3]['result']\n"
   ]
  },
  {
   "cell_type": "code",
   "execution_count": 20,
   "id": "2e4516e5-e0b8-47f0-9841-4345b41c8fac",
   "metadata": {
    "tags": []
   },
   "outputs": [
    {
     "data": {
      "text/plain": [
       "{'column_name': 'prediction',\n",
       " 'current': {'pearson': {'column_name': 'prediction',\n",
       "   'kind': 'pearson',\n",
       "   'values': {'x': ['passenger_count',\n",
       "     'trip_distance',\n",
       "     'fare_amount',\n",
       "     'total_amount'],\n",
       "    'y': [0.00912494186184666,\n",
       "     0.790407847382481,\n",
       "     0.9933601474505193,\n",
       "     0.9839636274576733]}},\n",
       "  'spearman': {'column_name': 'prediction',\n",
       "   'kind': 'spearman',\n",
       "   'values': {'x': ['passenger_count',\n",
       "     'trip_distance',\n",
       "     'fare_amount',\n",
       "     'total_amount'],\n",
       "    'y': [0.017125577009466913,\n",
       "     0.8154441317470709,\n",
       "     0.9861252489140606,\n",
       "     0.9794597652825381]}},\n",
       "  'kendall': {'column_name': 'prediction',\n",
       "   'kind': 'kendall',\n",
       "   'values': {'x': ['passenger_count',\n",
       "     'trip_distance',\n",
       "     'fare_amount',\n",
       "     'total_amount'],\n",
       "    'y': [0.013710226441397612,\n",
       "     0.7045651338715974,\n",
       "     0.9140423458026549,\n",
       "     0.8788591403348839]}}},\n",
       " 'reference': {'pearson': {'column_name': 'prediction',\n",
       "   'kind': 'pearson',\n",
       "   'values': {'x': ['passenger_count',\n",
       "     'trip_distance',\n",
       "     'fare_amount',\n",
       "     'total_amount'],\n",
       "    'y': [-0.006490352479259573,\n",
       "     0.33109688356860795,\n",
       "     0.9929968494045851,\n",
       "     0.9848884861623477]}},\n",
       "  'spearman': {'column_name': 'prediction',\n",
       "   'kind': 'spearman',\n",
       "   'values': {'x': ['passenger_count',\n",
       "     'trip_distance',\n",
       "     'fare_amount',\n",
       "     'total_amount'],\n",
       "    'y': [0.011377614568095685,\n",
       "     0.7518546066604217,\n",
       "     0.9827249055541036,\n",
       "     0.9793726437841823]}},\n",
       "  'kendall': {'column_name': 'prediction',\n",
       "   'kind': 'kendall',\n",
       "   'values': {'x': ['passenger_count',\n",
       "     'trip_distance',\n",
       "     'fare_amount',\n",
       "     'total_amount'],\n",
       "    'y': [0.00913478607718568,\n",
       "     0.6636643660916761,\n",
       "     0.9048013528756851,\n",
       "     0.88207595768973]}}}}"
      ]
     },
     "execution_count": 20,
     "metadata": {},
     "output_type": "execute_result"
    }
   ],
   "source": [
    "result['metrics'][4]['result']\n"
   ]
  },
  {
   "cell_type": "code",
   "execution_count": 21,
   "id": "b0b0d394-81f8-4316-9cd9-8a7bdc8aa365",
   "metadata": {
    "tags": []
   },
   "outputs": [
    {
     "data": {
      "text/plain": [
       "{'pearson': {'column_name': 'prediction',\n",
       "  'kind': 'pearson',\n",
       "  'values': {'x': ['passenger_count',\n",
       "    'trip_distance',\n",
       "    'fare_amount',\n",
       "    'total_amount'],\n",
       "   'y': [0.00912494186184666,\n",
       "    0.790407847382481,\n",
       "    0.9933601474505193,\n",
       "    0.9839636274576733]}},\n",
       " 'spearman': {'column_name': 'prediction',\n",
       "  'kind': 'spearman',\n",
       "  'values': {'x': ['passenger_count',\n",
       "    'trip_distance',\n",
       "    'fare_amount',\n",
       "    'total_amount'],\n",
       "   'y': [0.017125577009466913,\n",
       "    0.8154441317470709,\n",
       "    0.9861252489140606,\n",
       "    0.9794597652825381]}},\n",
       " 'kendall': {'column_name': 'prediction',\n",
       "  'kind': 'kendall',\n",
       "  'values': {'x': ['passenger_count',\n",
       "    'trip_distance',\n",
       "    'fare_amount',\n",
       "    'total_amount'],\n",
       "   'y': [0.013710226441397612,\n",
       "    0.7045651338715974,\n",
       "    0.9140423458026549,\n",
       "    0.8788591403348839]}}}"
      ]
     },
     "execution_count": 21,
     "metadata": {},
     "output_type": "execute_result"
    }
   ],
   "source": [
    "result['metrics'][4]['result']['current']\n"
   ]
  },
  {
   "cell_type": "code",
   "execution_count": 22,
   "id": "8a5065f5-387e-4930-b03f-5a0f5bb873f6",
   "metadata": {
    "tags": []
   },
   "outputs": [
    {
     "data": {
      "text/plain": [
       "0.9839636274576733"
      ]
     },
     "execution_count": 22,
     "metadata": {},
     "output_type": "execute_result"
    }
   ],
   "source": [
    "result['metrics'][4]['result']['current']['pearson']['values']['y'][3]\n"
   ]
  },
  {
   "cell_type": "code",
   "execution_count": null,
   "id": "1c120366-dc0a-425b-a004-dc5ae9348011",
   "metadata": {},
   "outputs": [],
   "source": []
  }
 ],
 "metadata": {
  "kernelspec": {
   "display_name": "Python 3 (ipykernel)",
   "language": "python",
   "name": "python3"
  },
  "language_info": {
   "codemirror_mode": {
    "name": "ipython",
    "version": 3
   },
   "file_extension": ".py",
   "mimetype": "text/x-python",
   "name": "python",
   "nbconvert_exporter": "python",
   "pygments_lexer": "ipython3",
   "version": "3.10.11"
  }
 },
 "nbformat": 4,
 "nbformat_minor": 5
}
