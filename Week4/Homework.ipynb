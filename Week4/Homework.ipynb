{
 "cells": [
  {
   "cell_type": "markdown",
   "id": "bb819bcc-26a1-473d-8f86-48fecb2402ac",
   "metadata": {},
   "source": [
    "## Homework\n",
    "\n",
    "In this homework, we'll deploy the ride duration model in batch mode. Like in homework 1, we'll use the Yellow Taxi Trip Records dataset. \n",
    "\n",
    "You'll find the starter code in the [homework](homework) directory."
   ]
  },
  {
   "cell_type": "code",
   "execution_count": 1,
   "id": "2c51efaa",
   "metadata": {
    "tags": []
   },
   "outputs": [
    {
     "name": "stdout",
     "output_type": "stream",
     "text": [
      "scikit-learn==1.2.2\n"
     ]
    }
   ],
   "source": [
    "!pip freeze | grep scikit-learn"
   ]
  },
  {
   "cell_type": "code",
   "execution_count": 2,
   "id": "0ef880a0",
   "metadata": {
    "tags": []
   },
   "outputs": [],
   "source": [
    "import pickle\n",
    "import pandas as pd"
   ]
  },
  {
   "cell_type": "code",
   "execution_count": 3,
   "id": "7836ccfd",
   "metadata": {
    "tags": []
   },
   "outputs": [],
   "source": [
    "with open('model.bin', 'rb') as f_in:\n",
    "    dv, model = pickle.load(f_in)"
   ]
  },
  {
   "cell_type": "code",
   "execution_count": 4,
   "id": "41c08294",
   "metadata": {
    "tags": []
   },
   "outputs": [],
   "source": [
    "categorical = ['PULocationID', 'DOLocationID']\n",
    "\n",
    "def read_data(filename):\n",
    "    df = pd.read_parquet(filename)\n",
    "    \n",
    "    df['duration'] = df.tpep_dropoff_datetime - df.tpep_pickup_datetime\n",
    "    df['duration'] = df.duration.dt.total_seconds() / 60\n",
    "\n",
    "    df = df[(df.duration >= 1) & (df.duration <= 60)].copy()\n",
    "\n",
    "    df[categorical] = df[categorical].fillna(-1).astype('int').astype('str')\n",
    "    \n",
    "    return df"
   ]
  },
  {
   "cell_type": "markdown",
   "id": "6961ffa5-d0fe-49da-86f1-3042e83fe51d",
   "metadata": {},
   "source": [
    "## Q1. Notebook\n",
    "\n",
    "We'll start with the same notebook we ended up with in homework 1.\n",
    "We cleaned it a little bit and kept only the scoring part. You can find the initial notebook [here](homework/starter.ipynb).\n",
    "\n",
    "Run this notebook for the February 2022 data.\n",
    "\n",
    "What's the standard deviation of the predicted duration for this dataset?\n"
   ]
  },
  {
   "cell_type": "code",
   "execution_count": 5,
   "id": "4854399a",
   "metadata": {
    "tags": []
   },
   "outputs": [],
   "source": [
    "year = 2022\n",
    "month = 2\n",
    "\n",
    "df = read_data(f'https://d37ci6vzurychx.cloudfront.net/trip-data/yellow_tripdata_{year:04}-{month:02}.parquet')"
   ]
  },
  {
   "cell_type": "code",
   "execution_count": 6,
   "id": "669fda0a",
   "metadata": {
    "tags": []
   },
   "outputs": [],
   "source": [
    "dicts = df[categorical].to_dict(orient='records')\n",
    "X_val = dv.transform(dicts)\n",
    "y_pred = model.predict(X_val)"
   ]
  },
  {
   "cell_type": "code",
   "execution_count": 7,
   "id": "8bc593d5-fa6d-4b2d-a448-04737cadb32d",
   "metadata": {
    "tags": []
   },
   "outputs": [
    {
     "data": {
      "text/plain": [
       "5.28140357655334"
      ]
     },
     "execution_count": 7,
     "metadata": {},
     "output_type": "execute_result"
    }
   ],
   "source": [
    "y_pred.std()"
   ]
  },
  {
   "cell_type": "markdown",
   "id": "3c8ff7a9-a47d-46f0-8829-82959f49cb9c",
   "metadata": {
    "tags": []
   },
   "source": [
    "## Q2. Preparing the output\n",
    "\n",
    "Like in the course videos, we want to prepare the dataframe with the output. \n",
    "\n",
    "First, let's create an artificial `ride_id` column:\n",
    "\n",
    "```python\n",
    "df['ride_id'] = f'{year:04d}/{month:02d}_' + df.index.astype('str')\n",
    "```\n",
    "\n",
    "Next, write the ride id and the predictions to a dataframe with results. \n",
    "\n",
    "Save it as parquet:\n",
    "\n",
    "```python\n",
    "df_result.to_parquet(\n",
    "    output_file,\n",
    "    engine='pyarrow',\n",
    "    compression=None,\n",
    "    index=False\n",
    ")\n",
    "```\n",
    "\n",
    "What's the size of the output file?"
   ]
  },
  {
   "cell_type": "code",
   "execution_count": 8,
   "id": "416eb091-9fae-4e79-a452-b56f59df8011",
   "metadata": {
    "tags": []
   },
   "outputs": [],
   "source": [
    "df['ride_id'] = f'{year:04d}/{month:02d}_' + df.index.astype('str')"
   ]
  },
  {
   "cell_type": "code",
   "execution_count": 10,
   "id": "a4090e2c-6bb5-4e5f-bd94-f49ddbd7dfca",
   "metadata": {
    "tags": []
   },
   "outputs": [],
   "source": [
    "df_result = df[['ride_id']].copy()\n",
    "df_result['prediction'] = y_pred\n",
    "output_file = f'predictions/pred_yellow_tripdata_{year:04}-{month:02}.parquet'\n"
   ]
  },
  {
   "cell_type": "code",
   "execution_count": 12,
   "id": "b8f8a870-d5a8-44b0-abe2-ac78aae23ae0",
   "metadata": {
    "tags": []
   },
   "outputs": [],
   "source": [
    "df_result.to_parquet(\n",
    "    output_file,\n",
    "    engine='pyarrow',\n",
    "    compression=None,\n",
    "    index=False\n",
    ")"
   ]
  },
  {
   "cell_type": "code",
   "execution_count": 13,
   "id": "031d9606-3b82-43a0-9beb-982239798aca",
   "metadata": {
    "tags": []
   },
   "outputs": [
    {
     "name": "stdout",
     "output_type": "stream",
     "text": [
      "File Size is : 59994863 bytes\n"
     ]
    }
   ],
   "source": [
    "import os\n",
    "\n",
    "file_size = os.path.getsize(f'predictions/pred_yellow_tripdata_{year:04}-{month:02}.parquet')\n",
    "print(\"File Size is :\", file_size, \"bytes\")"
   ]
  },
  {
   "cell_type": "markdown",
   "id": "e2efa7e4-7fd5-48d2-ab55-8ecb15e903cf",
   "metadata": {
    "tags": []
   },
   "source": [
    "Q3. Creating the scoring script\n",
    "Now let's turn the notebook into a script.\n",
    "\n",
    "Which command you need to execute for that?"
   ]
  },
  {
   "cell_type": "markdown",
   "id": "e17db038-ba75-4dc1-ba88-782b46872491",
   "metadata": {},
   "source": [
    "nbconvert"
   ]
  },
  {
   "cell_type": "markdown",
   "id": "f719a835-9e47-4ce2-b8d9-7fe7184fe889",
   "metadata": {},
   "source": [
    "## Q4. Virtual environment\n",
    "\n",
    "Now let's put everything into a virtual environment. We'll use pipenv for that.\n",
    "\n",
    "Install all the required libraries. Pay attention to the Scikit-Learn version:\n",
    "it should be `scikit-learn==1.2.2`. \n",
    "\n",
    "After installing the libraries, pipenv creates two files: `Pipfile`\n",
    "and `Pipfile.lock`. The `Pipfile.lock` file keeps the hashes of the\n",
    "dependencies we use for the virtual env.\n",
    "\n",
    "What's the first hash for the Scikit-Learn dependency?"
   ]
  },
  {
   "cell_type": "markdown",
   "id": "aed666d7-cdf7-41de-bf8d-29dd8c6c1813",
   "metadata": {},
   "source": [
    "065e9673e24e0dc5113e2dd2b4ca30c9d8aa2fa90f4c0597241c93b63130d233"
   ]
  },
  {
   "cell_type": "markdown",
   "id": "489d8085-4516-4e1f-9a46-10760fb771f1",
   "metadata": {},
   "source": [
    "## Q5. Parametrize the script\n",
    "\n",
    "Let's now make the script configurable via CLI. We'll create two \n",
    "parameters: year and month.\n",
    "\n",
    "Run the script for March 2022. \n",
    "\n",
    "What's the mean predicted duration? "
   ]
  },
  {
   "cell_type": "code",
   "execution_count": 5,
   "id": "c06a6c4c-5611-47ac-83e3-6be2f768eaa5",
   "metadata": {
    "tags": []
   },
   "outputs": [
    {
     "name": "stdout",
     "output_type": "stream",
     "text": [
      "reading data...\n",
      "predicting...\n",
      "the mean of prediction from month =03 and year =2022 is  12.758556818790902\n"
     ]
    }
   ],
   "source": [
    "!python Homework.py 2022 03"
   ]
  },
  {
   "cell_type": "markdown",
   "id": "6e48e637-7e79-40b2-934e-fab834375339",
   "metadata": {},
   "source": [
    "## Q6. Docker container \n",
    "\n",
    "Finally, we'll package the script in the docker container. \n",
    "For that, you'll need to use a base image that we prepared. \n",
    "\n",
    "This is how it looks like:\n",
    "\n",
    "```\n",
    "FROM python:3.10.0-slim\n",
    "\n",
    "WORKDIR /app\n",
    "COPY [ \"model2.bin\", \"model.bin\" ]\n",
    "```\n",
    "\n",
    "(see [`homework/Dockerfile`](homework/Dockerfile))\n",
    "\n",
    "We pushed it to [`svizor/zoomcamp-model:mlops-3.10.0-slim`](https://hub.docker.com/layers/svizor/zoomcamp-model/mlops-3.10.0-slim/images/sha256-595bf690875f5b9075550b61c609be10f05e6915609ef4ea4ce9797116c99eff?context=repo),\n",
    "which you should use as your base image.\n",
    "\n",
    "That is, this is how your Dockerfile should start:\n",
    "\n",
    "```docker\n",
    "FROM svizor/zoomcamp-model:mlops-3.10.0-slim\n",
    "\n",
    "# do stuff here\n",
    "```\n",
    "\n",
    "This image already has a pickle file with a dictionary vectorizer\n",
    "and a model. You will need to use them.\n",
    "\n",
    "Important: don't copy the model to the docker image. You will need\n",
    "to use the pickle file already in the image. \n",
    "\n",
    "Now run the script with docker. What's the mean predicted duration\n",
    "for April 2022? "
   ]
  },
  {
   "cell_type": "code",
   "execution_count": 6,
   "id": "7b4fea75-ef2d-43f3-ad4f-ab14b4fe4c59",
   "metadata": {
    "tags": []
   },
   "outputs": [
    {
     "name": "stdout",
     "output_type": "stream",
     "text": [
      "reading data...\n",
      "predicting...\n",
      "the mean of prediction from month =04 and year =2022 is  12.865128336784926\n"
     ]
    }
   ],
   "source": [
    "!python Homework.py 2022 04"
   ]
  }
 ],
 "metadata": {
  "kernelspec": {
   "display_name": "Python 3 (ipykernel)",
   "language": "python",
   "name": "python3"
  },
  "language_info": {
   "codemirror_mode": {
    "name": "ipython",
    "version": 3
   },
   "file_extension": ".py",
   "mimetype": "text/x-python",
   "name": "python",
   "nbconvert_exporter": "python",
   "pygments_lexer": "ipython3",
   "version": "3.10.11"
  }
 },
 "nbformat": 4,
 "nbformat_minor": 5
}
